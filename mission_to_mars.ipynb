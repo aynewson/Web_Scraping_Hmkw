{
 "cells": [
  {
   "cell_type": "code",
   "execution_count": 1,
   "metadata": {},
   "outputs": [],
   "source": [
    "# Dependecies \n",
    "import os\n",
    "import requests\n",
    "from bs4 import BeautifulSoup as bs\n",
    "from splinter import Browser\n",
    "import pandas as pd"
   ]
  },
  {
   "cell_type": "code",
   "execution_count": 2,
   "metadata": {},
   "outputs": [],
   "source": [
    "# Page to be scraped - NASA Mars News\n",
    "url = \"https://mars.nasa.gov/news/?page=0&per_page=40&order=publish_date+desc%2Ccreated_at+desc&search=&category=19%2C165%2C184%2C204&blank_scope=Latest\""
   ]
  },
  {
   "cell_type": "code",
   "execution_count": 3,
   "metadata": {},
   "outputs": [],
   "source": [
    "# Retrieve page with requests module \n",
    "response = requests.get(url)"
   ]
  },
  {
   "cell_type": "code",
   "execution_count": 4,
   "metadata": {},
   "outputs": [],
   "source": [
    "# BeautifulSoup object\n",
    "soup = bs(response.text, 'lxml')"
   ]
  },
  {
   "cell_type": "code",
   "execution_count": 5,
   "metadata": {},
   "outputs": [],
   "source": [
    "#print(soup.prettify())"
   ]
  },
  {
   "cell_type": "code",
   "execution_count": 6,
   "metadata": {},
   "outputs": [
    {
     "data": {
      "text/plain": [
       "\"\\nNASA's Opportunity Rover Mission on Mars Comes to End\\n\""
      ]
     },
     "execution_count": 6,
     "metadata": {},
     "output_type": "execute_result"
    }
   ],
   "source": [
    "# Latest News Title\n",
    "\n",
    "news_title = soup.find('div' , class_ ='content_title')\n",
    "news_title.find('a').text\n",
    "title_news = news_title.find('a').text\n",
    "title_news"
   ]
  },
  {
   "cell_type": "code",
   "execution_count": 7,
   "metadata": {},
   "outputs": [],
   "source": [
    "#soup"
   ]
  },
  {
   "cell_type": "code",
   "execution_count": 8,
   "metadata": {},
   "outputs": [],
   "source": [
    "# Paragraph Text\n",
    "news_paragraph = soup.find('div' , class_ = 'article_teaser_body')\n",
    "news_paragraph"
   ]
  },
  {
   "cell_type": "code",
   "execution_count": 9,
   "metadata": {},
   "outputs": [],
   "source": [
    "# Splinter \n",
    "\n",
    "executable_path = {'executable_path': 'chromedriver.exe'}\n",
    "browser = Browser('chrome', **executable_path, headless=False)"
   ]
  },
  {
   "cell_type": "code",
   "execution_count": 10,
   "metadata": {},
   "outputs": [],
   "source": [
    "url = 'https://www.jpl.nasa.gov/spaceimages/?search=&category=Mars'\n",
    "browser.visit(url)"
   ]
  },
  {
   "cell_type": "code",
   "execution_count": 11,
   "metadata": {},
   "outputs": [],
   "source": [
    "full_image = browser.find_by_id(\"full_image\")\n",
    "full_image.click()"
   ]
  },
  {
   "cell_type": "code",
   "execution_count": 12,
   "metadata": {},
   "outputs": [],
   "source": [
    "browser.is_element_present_by_text('more info', wait_time=1)\n",
    "more_info = browser.find_link_by_partial_text(\"more info\")\n",
    "more_info.click()"
   ]
  },
  {
   "cell_type": "code",
   "execution_count": 13,
   "metadata": {},
   "outputs": [],
   "source": [
    "html = browser.html\n",
    "img_soup = bs(html, 'html.parser')\n",
    "featured_image_url = img_soup.select_one('figure.lede a img').get('src')\n"
   ]
  },
  {
   "cell_type": "code",
   "execution_count": 14,
   "metadata": {},
   "outputs": [
    {
     "data": {
      "text/plain": [
       "'https://www.jpl.nasa.gov/spaceimages/images/largesize/PIA19036_hires.jpg'"
      ]
     },
     "execution_count": 14,
     "metadata": {},
     "output_type": "execute_result"
    }
   ],
   "source": [
    "full_url = f\"https://www.jpl.nasa.gov{featured_image_url}\"\n",
    "full_url"
   ]
  },
  {
   "cell_type": "code",
   "execution_count": 15,
   "metadata": {},
   "outputs": [],
   "source": [
    "# Mars Weather Twitter \n",
    "twitter_url = 'https://twitter.com/marswxreport?lang=en'\n",
    "response = requests.get(twitter_url)"
   ]
  },
  {
   "cell_type": "code",
   "execution_count": 16,
   "metadata": {},
   "outputs": [],
   "source": [
    "soup = bs(response.text, 'lxml')"
   ]
  },
  {
   "cell_type": "code",
   "execution_count": 17,
   "metadata": {},
   "outputs": [
    {
     "data": {
      "text/plain": [
       "'InSight sol 99 (2019-03-07) low -95.8ºC (-140.4ºF) high -13.3ºC (8.1ºF)\\nwinds from the SW at 4.2 m/s (9.5 mph) gusting to 12.0 m/s (26.8 mph)\\npressure at 7.20 hPapic.twitter.com/XRi0faFSv5'"
      ]
     },
     "execution_count": 17,
     "metadata": {},
     "output_type": "execute_result"
    }
   ],
   "source": [
    "mars_weather = soup.find('p', class_ = \"TweetTextSize\").text\n",
    "mars_weather"
   ]
  },
  {
   "cell_type": "code",
   "execution_count": 18,
   "metadata": {},
   "outputs": [],
   "source": [
    "#Mars Hemispheres\n",
    "url = 'https://astrogeology.usgs.gov/search/results?q=hemisphere+enhanced&k1=target&v1=Mars'\n",
    "browser.visit(url)"
   ]
  },
  {
   "cell_type": "code",
   "execution_count": 19,
   "metadata": {},
   "outputs": [],
   "source": [
    "mars_list = []\n",
    "links = browser.find_by_css('a.product-item h3')\n",
    "for i in range(len(links)):\n",
    "    hem_info = {}\n",
    "    browser.find_by_css('a.product-item h3')[i].click()\n",
    "    sample = browser.find_link_by_text('Sample').first\n",
    "    hem_info['img_url'] = sample['href']\n",
    "    hem_info['title'] = browser.find_by_css('h2.title').text\n",
    "    mars_list.append(hem_info)\n",
    "    browser.back()"
   ]
  },
  {
   "cell_type": "code",
   "execution_count": 20,
   "metadata": {
    "scrolled": true
   },
   "outputs": [
    {
     "data": {
      "text/plain": [
       "[{'img_url': 'http://astropedia.astrogeology.usgs.gov/download/Mars/Viking/cerberus_enhanced.tif/full.jpg',\n",
       "  'title': 'Cerberus Hemisphere Enhanced'},\n",
       " {'img_url': 'http://astropedia.astrogeology.usgs.gov/download/Mars/Viking/schiaparelli_enhanced.tif/full.jpg',\n",
       "  'title': 'Schiaparelli Hemisphere Enhanced'},\n",
       " {'img_url': 'http://astropedia.astrogeology.usgs.gov/download/Mars/Viking/syrtis_major_enhanced.tif/full.jpg',\n",
       "  'title': 'Syrtis Major Hemisphere Enhanced'},\n",
       " {'img_url': 'http://astropedia.astrogeology.usgs.gov/download/Mars/Viking/valles_marineris_enhanced.tif/full.jpg',\n",
       "  'title': 'Valles Marineris Hemisphere Enhanced'}]"
      ]
     },
     "execution_count": 20,
     "metadata": {},
     "output_type": "execute_result"
    }
   ],
   "source": [
    "mars_list"
   ]
  },
  {
   "cell_type": "code",
   "execution_count": 21,
   "metadata": {},
   "outputs": [],
   "source": [
    "#Mars Facts\n",
    "mars_facts_url = \"https://space-facts.com/mars/\"\n",
    "browser.visit(mars_facts_url)\n",
    "\n",
    "html = browser.html\n",
    "soup3 = bs(html, \"lxml\")\n"
   ]
  },
  {
   "cell_type": "code",
   "execution_count": 22,
   "metadata": {},
   "outputs": [
    {
     "data": {
      "text/html": [
       "<div>\n",
       "<style scoped>\n",
       "    .dataframe tbody tr th:only-of-type {\n",
       "        vertical-align: middle;\n",
       "    }\n",
       "\n",
       "    .dataframe tbody tr th {\n",
       "        vertical-align: top;\n",
       "    }\n",
       "\n",
       "    .dataframe thead th {\n",
       "        text-align: right;\n",
       "    }\n",
       "</style>\n",
       "<table border=\"1\" class=\"dataframe\">\n",
       "  <thead>\n",
       "    <tr style=\"text-align: right;\">\n",
       "      <th></th>\n",
       "      <th>0</th>\n",
       "      <th>1</th>\n",
       "    </tr>\n",
       "  </thead>\n",
       "  <tbody>\n",
       "    <tr>\n",
       "      <th>0</th>\n",
       "      <td>Equatorial Diameter:</td>\n",
       "      <td>6,792 km</td>\n",
       "    </tr>\n",
       "    <tr>\n",
       "      <th>1</th>\n",
       "      <td>Polar Diameter:</td>\n",
       "      <td>6,752 km</td>\n",
       "    </tr>\n",
       "    <tr>\n",
       "      <th>2</th>\n",
       "      <td>Mass:</td>\n",
       "      <td>6.42 x 10^23 kg (10.7% Earth)</td>\n",
       "    </tr>\n",
       "    <tr>\n",
       "      <th>3</th>\n",
       "      <td>Moons:</td>\n",
       "      <td>2 (Phobos &amp; Deimos)</td>\n",
       "    </tr>\n",
       "    <tr>\n",
       "      <th>4</th>\n",
       "      <td>Orbit Distance:</td>\n",
       "      <td>227,943,824 km (1.52 AU)</td>\n",
       "    </tr>\n",
       "    <tr>\n",
       "      <th>5</th>\n",
       "      <td>Orbit Period:</td>\n",
       "      <td>687 days (1.9 years)</td>\n",
       "    </tr>\n",
       "    <tr>\n",
       "      <th>6</th>\n",
       "      <td>Surface Temperature:</td>\n",
       "      <td>-153 to 20 °C</td>\n",
       "    </tr>\n",
       "    <tr>\n",
       "      <th>7</th>\n",
       "      <td>First Record:</td>\n",
       "      <td>2nd millennium BC</td>\n",
       "    </tr>\n",
       "    <tr>\n",
       "      <th>8</th>\n",
       "      <td>Recorded By:</td>\n",
       "      <td>Egyptian astronomers</td>\n",
       "    </tr>\n",
       "  </tbody>\n",
       "</table>\n",
       "</div>"
      ],
      "text/plain": [
       "                      0                              1\n",
       "0  Equatorial Diameter:                       6,792 km\n",
       "1       Polar Diameter:                       6,752 km\n",
       "2                 Mass:  6.42 x 10^23 kg (10.7% Earth)\n",
       "3                Moons:            2 (Phobos & Deimos)\n",
       "4       Orbit Distance:       227,943,824 km (1.52 AU)\n",
       "5         Orbit Period:           687 days (1.9 years)\n",
       "6  Surface Temperature:                  -153 to 20 °C\n",
       "7         First Record:              2nd millennium BC\n",
       "8          Recorded By:           Egyptian astronomers"
      ]
     },
     "execution_count": 22,
     "metadata": {},
     "output_type": "execute_result"
    }
   ],
   "source": [
    "mars_table = pd.read_html(mars_facts_url)[0]\n",
    "mars_table"
   ]
  },
  {
   "cell_type": "code",
   "execution_count": 23,
   "metadata": {},
   "outputs": [],
   "source": [
    "#convert DF to html\n",
    "mars_table.to_html('mars_table.html')"
   ]
  },
  {
   "cell_type": "code",
   "execution_count": 24,
   "metadata": {},
   "outputs": [],
   "source": [
    "scrape = ! jupyter nbconvert --to script scrape_mars_v3.py"
   ]
  },
  {
   "cell_type": "code",
   "execution_count": 25,
   "metadata": {},
   "outputs": [
    {
     "data": {
      "text/plain": [
       "[\"[NbConvertApp] WARNING | pattern 'scrape_mars_v3.py' matched no files\",\n",
       " 'This application is used to convert notebook files (*.ipynb) to various other',\n",
       " 'formats.',\n",
       " '',\n",
       " 'WARNING: THE COMMANDLINE INTERFACE MAY CHANGE IN FUTURE RELEASES.',\n",
       " '',\n",
       " 'Options',\n",
       " '',\n",
       " '-------',\n",
       " '',\n",
       " '',\n",
       " '',\n",
       " 'Arguments that take values are actually convenience aliases to full',\n",
       " 'Configurables, whose aliases are listed on the help line. For more information',\n",
       " \"on full configurables, see '--help-all'.\",\n",
       " '',\n",
       " '',\n",
       " '--debug',\n",
       " '',\n",
       " '    set log level to logging.DEBUG (maximize logging output)',\n",
       " '',\n",
       " '--generate-config',\n",
       " '',\n",
       " '    generate default config file',\n",
       " '',\n",
       " '-y',\n",
       " '',\n",
       " '    Answer yes to any questions instead of prompting.',\n",
       " '',\n",
       " '--execute',\n",
       " '',\n",
       " '    Execute the notebook prior to export.',\n",
       " '',\n",
       " '--allow-errors',\n",
       " '',\n",
       " \"    Continue notebook execution even if one of the cells throws an error and include the error message in the cell output (the default behaviour is to abort conversion). This flag is only relevant if '--execute' was specified, too.\",\n",
       " '',\n",
       " '--stdin',\n",
       " '',\n",
       " \"    read a single notebook file from stdin. Write the resulting notebook with default basename 'notebook.*'\",\n",
       " '',\n",
       " '--stdout',\n",
       " '',\n",
       " '    Write notebook output to stdout instead of files.',\n",
       " '',\n",
       " '--inplace',\n",
       " '',\n",
       " '    Run nbconvert in place, overwriting the existing notebook (only ',\n",
       " '    relevant when converting to notebook format)',\n",
       " '',\n",
       " '--clear-output',\n",
       " '',\n",
       " '    Clear output of current file and save in place, ',\n",
       " '    overwriting the existing notebook.',\n",
       " '',\n",
       " '--no-prompt',\n",
       " '',\n",
       " '    Exclude input and output prompts from converted document.',\n",
       " '',\n",
       " '--no-input',\n",
       " '',\n",
       " '    Exclude input cells and output prompts from converted document. ',\n",
       " '    This mode is ideal for generating code-free reports.',\n",
       " '--log-level=<Enum> (Application.log_level)',\n",
       " '',\n",
       " '    Default: 30',\n",
       " '',\n",
       " \"    Choices: (0, 10, 20, 30, 40, 50, 'DEBUG', 'INFO', 'WARN', 'ERROR', 'CRITICAL')\",\n",
       " '',\n",
       " '    Set the log level by value or name.',\n",
       " '',\n",
       " '--config=<Unicode> (JupyterApp.config_file)',\n",
       " '',\n",
       " \"    Default: ''\",\n",
       " '',\n",
       " '    Full path of a config file.',\n",
       " '',\n",
       " '--to=<Unicode> (NbConvertApp.export_format)',\n",
       " '',\n",
       " \"    Default: 'html'\",\n",
       " '',\n",
       " '    The export format to be used, either one of the built-in formats, or a',\n",
       " '',\n",
       " '    dotted object name that represents the import path for an `Exporter` class',\n",
       " '',\n",
       " '--template=<Unicode> (TemplateExporter.template_file)',\n",
       " '',\n",
       " \"    Default: ''\",\n",
       " '',\n",
       " '    Name of the template file to use',\n",
       " '',\n",
       " '--writer=<DottedObjectName> (NbConvertApp.writer_class)',\n",
       " '',\n",
       " \"    Default: 'FilesWriter'\",\n",
       " '',\n",
       " '    Writer class used to write the  results of the conversion',\n",
       " '',\n",
       " '--post=<DottedOrNone> (NbConvertApp.postprocessor_class)',\n",
       " '',\n",
       " \"    Default: ''\",\n",
       " '',\n",
       " '    PostProcessor class used to write the results of the conversion',\n",
       " '',\n",
       " '--output=<Unicode> (NbConvertApp.output_base)',\n",
       " '',\n",
       " \"    Default: ''\",\n",
       " '',\n",
       " '    overwrite base name use for output files. can only be used when converting',\n",
       " '',\n",
       " '    one notebook at a time.',\n",
       " '',\n",
       " '--output-dir=<Unicode> (FilesWriter.build_directory)',\n",
       " '',\n",
       " \"    Default: ''\",\n",
       " '',\n",
       " '    Directory to write output(s) to. Defaults to output to the directory of each',\n",
       " '',\n",
       " '    notebook. To recover previous default behaviour (outputting to the current',\n",
       " '',\n",
       " '    working directory) use . as the flag value.',\n",
       " '',\n",
       " '--reveal-prefix=<Unicode> (SlidesExporter.reveal_url_prefix)',\n",
       " '',\n",
       " \"    Default: ''\",\n",
       " '',\n",
       " '    The URL prefix for reveal.js (version 3.x). This defaults to the reveal CDN,',\n",
       " '',\n",
       " '    but can be any url pointing to a copy  of reveal.js.',\n",
       " '',\n",
       " '    For speaker notes to work, this must be a relative path to a local  copy of',\n",
       " '',\n",
       " '    reveal.js: e.g., \"reveal.js\".',\n",
       " '',\n",
       " '    If a relative path is given, it must be a subdirectory of the current',\n",
       " '',\n",
       " '    directory (from which the server is run).',\n",
       " '',\n",
       " '    See the usage documentation',\n",
       " '',\n",
       " '    (https://nbconvert.readthedocs.io/en/latest/usage.html#reveal-js-html-',\n",
       " '',\n",
       " '    slideshow) for more details.',\n",
       " '',\n",
       " '--nbformat=<Enum> (NotebookExporter.nbformat_version)',\n",
       " '',\n",
       " '    Default: 4',\n",
       " '',\n",
       " '    Choices: [1, 2, 3, 4]',\n",
       " '',\n",
       " '    The nbformat version to write. Use this to downgrade notebooks.',\n",
       " '',\n",
       " 'To see all available configurables, use `--help-all`',\n",
       " '',\n",
       " 'Examples',\n",
       " '--------',\n",
       " '',\n",
       " '    The simplest way to use nbconvert is',\n",
       " '    ',\n",
       " '    > jupyter nbconvert mynotebook.ipynb',\n",
       " '    ',\n",
       " '    which will convert mynotebook.ipynb to the default format (probably HTML).',\n",
       " '    ',\n",
       " '    You can specify the export format with `--to`.',\n",
       " \"    Options include ['asciidoc', 'custom', 'html', 'latex', 'markdown', 'notebook', 'pdf', 'python', 'rst', 'script', 'slides']\",\n",
       " '    ',\n",
       " '    > jupyter nbconvert --to latex mynotebook.ipynb',\n",
       " '    ',\n",
       " '    Both HTML and LaTeX support multiple output templates. LaTeX includes',\n",
       " \"    'base', 'article' and 'report'.  HTML includes 'basic' and 'full'. You\",\n",
       " '    can specify the flavor of the format used.',\n",
       " '    ',\n",
       " '    > jupyter nbconvert --to html --template basic mynotebook.ipynb',\n",
       " '    ',\n",
       " '    You can also pipe the output to stdout, rather than a file',\n",
       " '    ',\n",
       " '    > jupyter nbconvert mynotebook.ipynb --stdout',\n",
       " '    ',\n",
       " '    PDF is generated via latex',\n",
       " '    ',\n",
       " '    > jupyter nbconvert mynotebook.ipynb --to pdf',\n",
       " '    ',\n",
       " '    You can get (and serve) a Reveal.js-powered slideshow',\n",
       " '    ',\n",
       " '    > jupyter nbconvert myslides.ipynb --to slides --post serve',\n",
       " '    ',\n",
       " '    Multiple notebooks can be given at the command line in a couple of ',\n",
       " '    different ways:',\n",
       " '    ',\n",
       " '    > jupyter nbconvert notebook*.ipynb',\n",
       " '    > jupyter nbconvert notebook1.ipynb notebook2.ipynb',\n",
       " '    ',\n",
       " '    or you can specify the notebooks list in a config file, containing::',\n",
       " '    ',\n",
       " '        c.NbConvertApp.notebooks = [\"my_notebook.ipynb\"]',\n",
       " '    ',\n",
       " '    > jupyter nbconvert --config mycfg.py',\n",
       " '']"
      ]
     },
     "execution_count": 25,
     "metadata": {},
     "output_type": "execute_result"
    }
   ],
   "source": [
    "scrape"
   ]
  },
  {
   "cell_type": "code",
   "execution_count": null,
   "metadata": {},
   "outputs": [],
   "source": []
  }
 ],
 "metadata": {
  "kernelspec": {
   "display_name": "pythondata2",
   "language": "python",
   "name": "pythondata2"
  },
  "language_info": {
   "codemirror_mode": {
    "name": "ipython",
    "version": 3
   },
   "file_extension": ".py",
   "mimetype": "text/x-python",
   "name": "python",
   "nbconvert_exporter": "python",
   "pygments_lexer": "ipython3",
   "version": "3.7.2"
  }
 },
 "nbformat": 4,
 "nbformat_minor": 2
}
